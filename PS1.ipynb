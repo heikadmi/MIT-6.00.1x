{
 "cells": [
  {
   "cell_type": "markdown",
   "id": "4843548a",
   "metadata": {},
   "source": [
    "Problem 1\n",
    "10.0/10.0 points (graded)\n",
    "\n",
    "Assume s is a string of lower case characters.\n",
    "\n",
    "Write a program that counts up the number of vowels contained in the string s. Valid vowels are: 'a', 'e', 'i', 'o', and 'u'. For example, if s = 'azcbobobegghakl', your program should print:\n",
    "\n",
    "<b>Number of vowels: 5"
   ]
  },
  {
   "cell_type": "code",
   "execution_count": null,
   "id": "5a3b99d1",
   "metadata": {},
   "outputs": [],
   "source": [
    "count = 0\n",
    "for char in s:\n",
    "    if char in ['a', 'e', 'i', 'o', 'u']:\n",
    "        count += 1\n",
    "print(count)"
   ]
  },
  {
   "cell_type": "markdown",
   "id": "c49bdb53",
   "metadata": {},
   "source": [
    "Problem 2\n",
    "10.0/10.0 points (graded)\n",
    "\n",
    "Assume s is a string of lower case characters.\n",
    "\n",
    "Write a program that prints the number of times the string 'bob' occurs in s. For example, if s = 'azcbobobegghakl', then your program should print:\n",
    "\n",
    "<b>Number of times bob occurs is: 2</b>"
   ]
  },
  {
   "cell_type": "code",
   "execution_count": null,
   "id": "6d9fe70a",
   "metadata": {},
   "outputs": [],
   "source": [
    "count = 0\n",
    "index = 0\n",
    "for char in s:\n",
    "    if char == 'b' and index < len(s) - 2:\n",
    "        if s[index + 1 - len(s)] == 'o' and s[index + 2 - len(s)] == 'b':\n",
    "            count += 1\n",
    "    index += 1\n",
    "print(count)"
   ]
  },
  {
   "cell_type": "markdown",
   "id": "aec3d8b5",
   "metadata": {},
   "source": [
    "Problem 3\n",
    "15.0/15.0 points (graded)\n",
    "\n",
    "Assume s is a string of lower case characters.\n",
    "\n",
    "Write a program that prints the longest substring of s in which the letters occur in alphabetical order. For example, if s = 'azcbobobegghakl', then your program should print:\n",
    "\n",
    "<b>Longest substring in alphabetical order is: beggh </b>\n",
    "\n",
    "In the case of ties, print the first substring. For example, if s = 'abcbcd', then your program should print:\n",
    "\n",
    "<b>Longest substring in alphabetical order is: abc</b>\n",
    "\n",
    "Note: This problem may be challenging. We encourage you to work smart. If you've spent more than a few hours on this problem, we suggest that you move on to a different part of the course. If you have time, come back to this problem after you've had a break and cleared your head."
   ]
  },
  {
   "cell_type": "code",
   "execution_count": null,
   "id": "3ae467c3",
   "metadata": {},
   "outputs": [],
   "source": [
    "substring = []\n",
    "for char in range(len(s)):\n",
    "    if s[char - len(s)] <= s[char+1 - len(s)]:\n",
    "        substring.append(s[char])\n",
    "    else:\n",
    "        if char - len(s) != - len(s) and s[char - len(s)] >= s[(char-1) - len(s)]:\n",
    "            substring.append(s[char] + ';')\n",
    "result = \"\".join(substring)\n",
    "convert = result.split(';')\n",
    "a = 0\n",
    "if len(convert) > 1:\n",
    "    for i in range(len(convert)):\n",
    "        if len(convert[-1 - i]) >= a:\n",
    "            a = len(convert[-1 - i])\n",
    "            text = convert[-1 - i]\n",
    "    print('Longest substring in alphabetical order is: ', text)\n",
    "else:\n",
    "    print('Longest substring in alphabetical order is: ', s[0])"
   ]
  }
 ],
 "metadata": {
  "kernelspec": {
   "display_name": "Python 3 (ipykernel)",
   "language": "python",
   "name": "python3"
  },
  "language_info": {
   "codemirror_mode": {
    "name": "ipython",
    "version": 3
   },
   "file_extension": ".py",
   "mimetype": "text/x-python",
   "name": "python",
   "nbconvert_exporter": "python",
   "pygments_lexer": "ipython3",
   "version": "3.8.8"
  }
 },
 "nbformat": 4,
 "nbformat_minor": 5
}
